{
  "nbformat": 4,
  "nbformat_minor": 0,
  "metadata": {
    "colab": {
      "provenance": [],
      "authorship_tag": "ABX9TyP2uWMoNfPfpG30saQWVJqs",
      "include_colab_link": true
    },
    "kernelspec": {
      "name": "python3",
      "display_name": "Python 3"
    },
    "language_info": {
      "name": "python"
    }
  },
  "cells": [
    {
      "cell_type": "markdown",
      "metadata": {
        "id": "view-in-github",
        "colab_type": "text"
      },
      "source": [
        "<a href=\"https://colab.research.google.com/github/RocketNiddle/Statistics-and-Machine-Learning-in-Python/blob/main/Scientific_Python_.ipynb\" target=\"_parent\"><img src=\"https://colab.research.google.com/assets/colab-badge.svg\" alt=\"Open In Colab\"/></a>"
      ]
    },
    {
      "cell_type": "markdown",
      "source": [
        "# Numpy: arrays and matrices"
      ],
      "metadata": {
        "id": "Zekfcox2mSrc"
      }
    },
    {
      "cell_type": "code",
      "execution_count": 2,
      "metadata": {
        "id": "PDH6rH7olzDG"
      },
      "outputs": [],
      "source": [
        "import numpy as np"
      ]
    },
    {
      "cell_type": "markdown",
      "source": [
        "## Create arrays"
      ],
      "metadata": {
        "id": "ZTX6Z_TUmmQ3"
      }
    },
    {
      "cell_type": "code",
      "source": [
        "data1 = [1, 2, 3, 4, 5]                 # list\n",
        "arr1 = np.array(data1)                  # 1D array\n",
        "arr1\n",
        "data2 = [range(1, 5), range(5, 9)]      # list of lists\n",
        "arr2 = np.array(data2)                  # 2d array\n",
        "arr2.tolist()                           # convert array back to list\n",
        ""
      ],
      "metadata": {
        "colab": {
          "base_uri": "https://localhost:8080/"
        },
        "id": "b63VrNtkm6Ge",
        "outputId": "1d4bc2dc-dd87-42ee-cdca-b4d71854aefb"
      },
      "execution_count": 18,
      "outputs": [
        {
          "output_type": "execute_result",
          "data": {
            "text/plain": [
              "array([1, 2, 3, 4, 5])"
            ]
          },
          "metadata": {},
          "execution_count": 18
        }
      ]
    },
    {
      "cell_type": "markdown",
      "source": [
        "# Create special arrays"
      ],
      "metadata": {
        "id": "GJj4lJr1oMBK"
      }
    },
    {
      "cell_type": "code",
      "source": [
        "np.zeros(10)\n",
        "np.zeros((3, 6))\n",
        "np.ones(10)\n",
        "np.linspace(0, 1, 5)                   # 0 to 1 (inclusive) with 5 points\n",
        "np.logspace(0, 3, 4)                   # 10^0 to 10^3 (inclusive) with 4 points"
      ],
      "metadata": {
        "colab": {
          "base_uri": "https://localhost:8080/"
        },
        "id": "pcvKC7umoS0g",
        "outputId": "4c59c215-38dc-49ff-9790-8b08c9299073"
      },
      "execution_count": 12,
      "outputs": [
        {
          "output_type": "execute_result",
          "data": {
            "text/plain": [
              "array([   1.,   10.,  100., 1000.])"
            ]
          },
          "metadata": {},
          "execution_count": 12
        }
      ]
    },
    {
      "cell_type": "code",
      "source": [
        "int_array = np.arange(5)\n",
        "float_array = int_array.astype(float)"
      ],
      "metadata": {
        "id": "ci3OANurq1Ba"
      },
      "execution_count": 19,
      "outputs": []
    },
    {
      "cell_type": "markdown",
      "source": [
        "# Examining arrays"
      ],
      "metadata": {
        "id": "HnW68Ilxq7gi"
      }
    },
    {
      "cell_type": "code",
      "source": [
        "arr1.dtype                       # float64\n",
        "arr2.ndim                       # 2\n",
        "arr2.shape                      # (2, 4) - axis 0 is rows, axis 1 is columns\n",
        "arr2.size                       # 8 - total number of elements\n",
        "len(arr2)                       # 2 - size of first dimension (aka axis)"
      ],
      "metadata": {
        "colab": {
          "base_uri": "https://localhost:8080/"
        },
        "id": "JjmRHozAq6VM",
        "outputId": "c3dc47e9-baf1-4825-b652-b003aa30bfbd"
      },
      "execution_count": 21,
      "outputs": [
        {
          "output_type": "execute_result",
          "data": {
            "text/plain": [
              "2"
            ]
          },
          "metadata": {},
          "execution_count": 21
        }
      ]
    }
  ]
}